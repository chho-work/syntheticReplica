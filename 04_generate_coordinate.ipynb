{
 "cells": [
  {
   "cell_type": "code",
   "execution_count": null,
   "metadata": {},
   "outputs": [],
   "source": [
    "%nbdev_hide\n",
    "# IN_COLAB = 'google.colab' in str(get_ipython())\n",
    "# if IN_COLAB:\n",
    "#   !pip install git+https://github.com/pete88b/nbdev_colab_helper.git\n",
    "#   from nbdev_colab_helper.core import *\n",
    "#   project_name = 'syntheticReplica'\n",
    "#   init_notebook(project_name)"
   ]
  },
  {
   "cell_type": "code",
   "execution_count": null,
   "metadata": {},
   "outputs": [
    {
     "name": "stdout",
     "output_type": "stream",
     "text": [
      "Cells will be exported to syntheticReplica.generate_coordinate,\n",
      "unless a different module is specified after an export flag: `%nbdev_export special.module`\n"
     ]
    }
   ],
   "source": [
    "%nbdev_hide\n",
    "%load_ext autoreload\n",
    "%autoreload 2\n",
    "\n",
    "from nbdev import *\n",
    "%nbdev_default_export generate_coordinate\n",
    "\n",
    "from nbdev.showdoc import *\n",
    "from fastcore.nb_imports import *"
   ]
  },
  {
   "cell_type": "code",
   "execution_count": null,
   "metadata": {},
   "outputs": [],
   "source": [
    "%nbdev_export\n",
    "from pathlib import Path\n",
    "import random\n",
    "import pandas as pd\n",
    "\n",
    "\n",
    "def randomCoordinates(file_csv:Path) -> list:\n",
    "    \"\"\"\n",
    "        Select andomly a coordinate from a sequence of coordinates.\n",
    "        The sequence of coordinates are created from data points stored in a \"csv\" format file.\n",
    "        Data columns: \"init_pto_x\", \"init_pto_y\", \"expand_x\", expand_y\"\n",
    "    \"\"\"\n",
    "    \n",
    "    df = pd.read_csv(file_csv, index_col=0)\n",
    "    index = df.index\n",
    "    init_pto_x = df['init_pto_x']\n",
    "    init_pto_y = df['init_pto_y']\n",
    "    expand_x = df['expand_x']\n",
    "    expand_y = df['expand_y']\n",
    "    _index_names = []\n",
    "    _random_ptos = []\n",
    "    for i in range(len(init_pto_x)):\n",
    "        index_names = index[i]\n",
    "        expand_x_coord = [[init_pto_x[i] + r, init_pto_y[i]] for r in range(expand_x[i])]\n",
    "        expand_y_coord = [[init_pto_x[i], init_pto_y[i] + r] for r in range(expand_y[i])]\n",
    "        random_x = random.choice(expand_x_coord)\n",
    "        random_y = random.choice(expand_y_coord)\n",
    "        # One random coordinates for each data point\n",
    "        _random_ptos.append(random.choice([random_x] + [random_y]))\n",
    "        _index_names.append(index_names)\n",
    "    return _index_names, _random_ptos\n",
    "\n",
    "# Todo: amplify this to general use.\n",
    "def generateRandCoord(generate_size:int, axis:str, init_x:int, init_y:int) -> tuple:\n",
    "    if generate_size > 0:\n",
    "        if axis==\"x\":\n",
    "            _coordinate = [[init_x + i, init_y] for i in range(generate_size)]\n",
    "        elif axis == \"y\":\n",
    "            _coordinate = [[init_x, init_y + 1] for i in range(generate_size)]\n",
    "        else: \n",
    "            print('Error, parameter axis must be either \"x\" or \"y\".')\n",
    "    else:\n",
    "        print(f'Please retry, generate_size parameter must have a min value of 1.')\n",
    "    \n",
    "    return tuple(random.choice(_coordinate))"
   ]
  },
  {
   "cell_type": "code",
   "execution_count": null,
   "metadata": {},
   "outputs": [
    {
     "name": "stdout",
     "output_type": "stream",
     "text": [
      "Converted 04_generate_coordinate.ipynb.\n"
     ]
    }
   ],
   "source": [
    "%nbdev_hide\n",
    "# Convert to module\n",
    "from nbdev.export import notebook2script\n",
    "notebook2script(\"04_generate_coordinate.ipynb\")"
   ]
  }
 ],
 "metadata": {
  "kernelspec": {
   "display_name": "Python 3",
   "name": "python3"
  }
 },
 "nbformat": 4,
 "nbformat_minor": 0
}
