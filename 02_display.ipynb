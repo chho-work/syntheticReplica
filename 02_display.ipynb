{
 "cells": [
  {
   "cell_type": "code",
   "execution_count": null,
   "metadata": {},
   "outputs": [],
   "source": [
    "%nbdev_hide\n",
    "# IN_COLAB = 'google.colab' in str(get_ipython())\n",
    "# if IN_COLAB:\n",
    "#   !pip install git+https://github.com/pete88b/nbdev_colab_helper.git\n",
    "#   from nbdev_colab_helper.core import *\n",
    "#   project_name = 'syntheticReplica'\n",
    "#   init_notebook(project_name)"
   ]
  },
  {
   "cell_type": "code",
   "execution_count": null,
   "metadata": {},
   "outputs": [
    {
     "name": "stdout",
     "output_type": "stream",
     "text": [
      "Cells will be exported to syntheticReplica.display,\n",
      "unless a different module is specified after an export flag: `%nbdev_export special.module`\n"
     ]
    }
   ],
   "source": [
    "%nbdev_hide\n",
    "%load_ext autoreload\n",
    "%autoreload 2\n",
    "\n",
    "from nbdev import *\n",
    "%nbdev_default_export display\n",
    "\n",
    "from nbdev.showdoc import *\n",
    "from fastcore.nb_imports import *"
   ]
  },
  {
   "cell_type": "code",
   "execution_count": null,
   "metadata": {},
   "outputs": [],
   "source": [
    "%nbdev_export\n",
    "from google.colab import widgets\n",
    "from syntheticReplica.dirView import *\n",
    "from itertools import islice\n",
    "from pathlib import Path \n",
    "from PIL import Image\n",
    "import matplotlib.pyplot as plt\n",
    "import numpy as np"
   ]
  },
  {
   "cell_type": "markdown",
   "metadata": {},
   "source": [
    "# Display Image\n",
    "> Display images utilities."
   ]
  },
  {
   "cell_type": "code",
   "execution_count": null,
   "metadata": {},
   "outputs": [],
   "source": [
    "%nbdev_export\n",
    "# open image - add to display.py\n",
    "def openImg(path_image:str):\n",
    "    return Image.open(path_image)"
   ]
  },
  {
   "cell_type": "code",
   "execution_count": null,
   "metadata": {},
   "outputs": [],
   "source": [
    "%nbdev_export\n",
    "def imageSize(path_image:str) -> tuple:\n",
    "    image = openImg(path_image)\n",
    "    return image.size"
   ]
  },
  {
   "cell_type": "markdown",
   "metadata": {},
   "source": [
    "### **Display Image**\n",
    "\n",
    "Display single image.<br>\n",
    "\n",
    "Args:  \n",
    "* path_dir     : path to directory\n",
    "* figsize      : figure size to display, default 3 x 3(H x W) \n",
    "\n",
    "Return:\n",
    "* None"
   ]
  },
  {
   "cell_type": "code",
   "execution_count": null,
   "metadata": {},
   "outputs": [],
   "source": [
    "%nbdev_export\n",
    "# Display image\n",
    "def displayImage(path_dir:Path, figsize:tuple=(3, 3)) -> None:\n",
    "    img = str(path_dir)\n",
    "    image_show = Image.open(img)\n",
    "    plt.figure(figsize=figsize)\n",
    "    plt.imshow(image_show)\n",
    "    plt.show()"
   ]
  },
  {
   "cell_type": "markdown",
   "metadata": {},
   "source": [
    "### **Display Images TarBar**\n",
    "\n",
    "Note: **ONLY APPLICABLE IN COLAB**\n",
    "\n",
    "Display multiple images in TarBar layout.<br>\n",
    "\n",
    "Args:  \n",
    "* path_dir     : path to directory\n",
    "* first        : first image id(inclusive) to display in a sequence\n",
    "* last         : last image id(exclusive) to display in a sequence\n",
    "* start_last   : start diplaying from last, default = False\n",
    "* figsize      : figure size to display, default 3 x 3(H x W)\n",
    "\n",
    "Return:\n",
    "* None"
   ]
  },
  {
   "cell_type": "code",
   "execution_count": null,
   "metadata": {},
   "outputs": [],
   "source": [
    "%nbdev_export\n",
    "# Display image in TarBar format\n",
    "def displayTarBarImage(path_dir:Path, first:int, last:int, start_last=False, figsize:tuple=(3, 3)) -> None:\n",
    "    _enum_items = list(islice(itemize(path_dir), first, last))\n",
    "    tb_plt = widgets.TabBar([str(i) for i in range(first, last)], location='start')\n",
    "\n",
    "    for base_0 in range(0, last-first):\n",
    "        with tb_plt.output_to(base_0, select=start_last):\n",
    "            print(f'File name: {Path(_enum_items[base_0][1].name)}')\n",
    "            print(f'Image Size: {imageSize(Path(_enum_items[base_0][1]))} (H x W)')\n",
    "            displayImage(Path(_enum_items[base_0][1]), figsize=figsize)\n",
    "\n"
   ]
  },
  {
   "cell_type": "markdown",
   "metadata": {},
   "source": [
    "### **Display Images Grid Random**\n",
    "\n",
    "Note: **ONLY APPLICABLE IN COLAB**\n",
    "\n",
    "Display multiple random images in Grid layout.<br>\n",
    "\n",
    "Args:  \n",
    "* path_dir     : path to directory\n",
    "* total_img    : total number of image to display\n",
    "* grid_row     : rows to display, default=3\n",
    "* grid_col     : cols to display, default=3\n",
    "* figsize      : figure size to display, default 3 x 3(H x W)\n",
    "\n",
    "Return:\n",
    "* None"
   ]
  },
  {
   "cell_type": "code",
   "execution_count": null,
   "metadata": {},
   "outputs": [],
   "source": [
    "%nbdev_export\n",
    "# Display image in Random format            \n",
    "def displayGridRandom(path_dir:Path, total_img:int, grid_row:int=3, grid_col:int=3, figsize:tuple=(3,3)) -> None:\n",
    "    \"\"\"\n",
    "        Display random selected images w/Colab widget Grid (to use only in Colab).\n",
    "        Args  \n",
    "            path_dir    : path to image directory\n",
    "            total_img   : total number of images to be displayed\n",
    "            row         : select number of grid row\n",
    "            col         : select number of grid column\n",
    "            figsize     : H,W of figure size to be displayed  \n",
    "        Return \n",
    "            None\n",
    "    \"\"\"\n",
    "    if total_img > grid_row * grid_col:\n",
    "                print(f'To diplay {total_img} images, please increase grid row or col number.')\n",
    "    else:\n",
    "        pass\n",
    "\n",
    "    grid = widgets.Grid(grid_row, grid_col) # row x col\n",
    "    n = len(itemize(path_dir))\n",
    "    choice = np.random.choice(n, 6, replace=False).tolist()\n",
    "    index_list = [itemize(path_dir)[i] for i in choice]\n",
    "\n",
    "    for id, (row, col) in enumerate(grid):\n",
    "       try:\n",
    "            print(f'Fname: {Path(index_list[id][1].name)}')\n",
    "            displayImage(Path(index_list[id][1]), figsize=figsize)\n",
    "            print(f'Image Size(HxW):{imageSize(Path(index_list[id][1]))}')\n",
    "       except:\n",
    "            pass"
   ]
  },
  {
   "cell_type": "code",
   "execution_count": null,
   "metadata": {},
   "outputs": [
    {
     "name": "stdout",
     "output_type": "stream",
     "text": [
      "Converted 02_display.ipynb.\n"
     ]
    }
   ],
   "source": [
    "%nbdev_hide\n",
    "from nbdev.export import notebook2script\n",
    "notebook2script(\"02_display.ipynb\")"
   ]
  },
  {
   "cell_type": "code",
   "execution_count": null,
   "metadata": {},
   "outputs": [],
   "source": [
    ""
   ]
  }
 ],
 "metadata": {
  "kernelspec": {
   "display_name": "Python 3",
   "name": "python3"
  }
 },
 "nbformat": 4,
 "nbformat_minor": 0
}
