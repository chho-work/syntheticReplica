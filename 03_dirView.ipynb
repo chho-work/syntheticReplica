{
 "cells": [
  {
   "cell_type": "code",
   "execution_count": null,
   "metadata": {},
   "outputs": [
    {
     "name": "stdout",
     "output_type": "stream",
     "text": [
      "Cells will be exported to syntheticReplica.dirView,\n",
      "unless a different module is specified after an export flag: `%nbdev_export special.module`\n"
     ]
    }
   ],
   "source": [
    "%nbdev_hide\n",
    "%load_ext autoreload\n",
    "%autoreload 2\n",
    "from nbdev import *\n",
    "%nbdev_default_export dirView\n",
    "\n",
    "from nbdev.showdoc import *\n",
    "from fastcore.nb_imports import *"
   ]
  },
  {
   "cell_type": "code",
   "execution_count": null,
   "metadata": {},
   "outputs": [],
   "source": [
    "%nbdev_hide\n",
    "# IN_COLAB = 'google.colab' in str(get_ipython())\n",
    "# if IN_COLAB:\n",
    "#   !pip install git+https://github.com/pete88b/nbdev_colab_helper.git\n",
    "#   from nbdev_colab_helper.core import *\n",
    "#   project_name = 'syntheticReplica'\n",
    "#   init_notebook(project_name)"
   ]
  },
  {
   "cell_type": "code",
   "execution_count": null,
   "metadata": {},
   "outputs": [
    {
     "name": "stdout",
     "output_type": "stream",
     "text": [
      "00_core.ipynb\t  docs\t       MANIFEST.in  settings.ini\n",
      "03_dirView.ipynb  index.ipynb  README.md    setup.py\n",
      "CONTRIBUTING.md   LICENSE      sample_nb    syntheticReplica\n"
     ]
    }
   ],
   "source": [
    "!ls"
   ]
  },
  {
   "cell_type": "code",
   "execution_count": null,
   "metadata": {},
   "outputs": [],
   "source": [
    "%nbdev_export\n",
    "from pathlib import Path\n",
    "import random\n",
    "import shutil\n",
    "\n",
    "# Make dir, parents=True, exist_ok=True\n",
    "def mkDir(base_path:Path, dir_list:list):\n",
    "    path_names = []\n",
    "    for name in dir_list:\n",
    "        name = (base_path).joinpath(name)\n",
    "        name.mkdir(parents=True, exist_ok=True)\n",
    "        path_names.append(name)\n",
    "\n",
    "# Display additional message\n",
    "def additionalMssg(count:int) -> None:\n",
    "    if count == 0:\n",
    "        print(\"All images are ready to display, please proceed!\")\n",
    "    elif count > 0:\n",
    "        print(f'Not a JPG or PNG files: {count}')\n",
    "\n",
    "# Count total quantity of files \n",
    "def fileCount(path_dir:Path) -> int:\n",
    "    dir_size = len(list(path_dir.iterdir()))\n",
    "    print(f'Total number of items found: {dir_size}')\n",
    "    return dir_size\n",
    "\n",
    "# List path to subdirs or paths to files of a dir \n",
    "def listFile(path_dir:Path) -> list:\n",
    "    return sorted(list(path_dir.iterdir()))\n",
    "\n",
    "# Enumerate list of file names and paths\n",
    "def itemize(path_dir:Path) -> list:\n",
    "    return [i for i in enumerate(listFile(path_dir))]\n",
    "\n",
    "# Remove file with name and extension\n",
    "def rmFile(id:list, path_dir:Path) -> None:\n",
    "    itemize(path_dir)\n",
    "    # Remove paths corresponding to id in the list.\n",
    "    list(map(lambda x: (itemize(path_dir)[x][1]).unlink(), id))\n",
    "\n",
    "# Remove all files with specific extension in a directory\n",
    "def rmFileExt(path_dir:Path, extension:str) -> None:\n",
    "    enum = itemize(path_dir)\n",
    "    for i in range(len(enum)):\n",
    "        _, path = enum[i]\n",
    "        if path.is_file() and path.suffix == extension:\n",
    "            path.unlink()\n",
    "            print(f'\"{path}\"\" removed!')\n",
    "    \n",
    "    print(f'All \"{extension}\" removed!')\n",
    "\n",
    "\n",
    "# Remove directory\n",
    "def rmDir(path_dir:Path, dir:str) -> None:\n",
    "    dir_list = listFile(path_dir)\n",
    "    folder = path_dir.joinpath(dir)\n",
    "    if folder in dir_list:\n",
    "        shutil.rmtree(folder)\n",
    "        print(f'\"{folder}\"\" removed' )\n",
    "          \n",
    "# Display image file information     \n",
    "def showDirInf(path_dir:Path, suffix_list:list = ['.jpg', '.jpeg', '.png']) -> None:\n",
    "    \"\"\"\n",
    "        Show file paths, names, types and indicate wheather to remove. \n",
    "        Args  \n",
    "            path_dir     : path to image directory\n",
    "            suffix_list  : list of acceptable image suffixes or extensions(remove if not listed) \n",
    "        Return \n",
    "            None\n",
    "    \"\"\"\n",
    "      \n",
    "    count = 0\n",
    "    enum = itemize(path_dir)\n",
    "    for i in range(len(enum)):\n",
    "        id, path = enum[i]\n",
    "        if path.suffix not in suffix_list:\n",
    "            print(f'{id}: Not a JPG or PNG, please remove before proceeding -> {path.name}')\n",
    "            count += 1\n",
    "        else:\n",
    "            print(f'{id}: {path.name}')\n",
    "\n",
    "    print(f'\\nPath to files: \"{path.parents[0]}\"')  \n",
    "    fileCount(path_dir)\n",
    "    additionalMssg(count)"
   ]
  },
  {
   "cell_type": "markdown",
   "metadata": {},
   "source": [
    "### Lessons Learned"
   ]
  },
  {
   "cell_type": "code",
   "execution_count": null,
   "metadata": {},
   "outputs": [],
   "source": [
    "%nbdev_hide\n",
    "# You can use itemize() with dict as well.\n",
    "\n",
    "# def enumDict(path_dir):\n",
    "#     return {k:v for k, v in enumerate(listFile(path_dir))}\n",
    "\n",
    "# path_dir = Path('/content/test_dir')\n",
    "# suffix_list = ['.jpg', '.jpeg']\n",
    "# count = 0\n",
    "# enum = enumDict(path_dir)\n",
    "# print(enum)\n",
    "# key = 0\n",
    "# enum.pop(int(key), None)\n",
    "# enum = enumDict(path_dir)\n",
    "# print(enum)"
   ]
  },
  {
   "cell_type": "code",
   "execution_count": null,
   "metadata": {},
   "outputs": [],
   "source": [
    "%nbdev_hide\n",
    "# Another version of remove file\n",
    "# def rmFile(path_dir:str, fname:str):\n",
    "#     file = path_dir.joinpath(fname)\n",
    "\n",
    "#     try:\n",
    "#         file.unlink()\n",
    "#     except OSError as e:\n",
    "#         print(f'Error: {file} : {e.strerror}')\n",
    "\n",
    "\n",
    "#     if file in listFile(path_dir):\n",
    "#         print(f'{fname} in {path_dir}, please remove.')\n",
    "#     else:\n",
    "#         print(f'{fname} removed!')"
   ]
  },
  {
   "cell_type": "markdown",
   "metadata": {},
   "source": [
    "### Convert to Script"
   ]
  },
  {
   "cell_type": "code",
   "execution_count": null,
   "metadata": {},
   "outputs": [
    {
     "name": "stdout",
     "output_type": "stream",
     "text": [
      "Converted 00_core.ipynb.\n",
      "Converted 03_dirView.ipynb.\n",
      "Converted index.ipynb.\n"
     ]
    }
   ],
   "source": [
    "# Convert to module\n",
    "from nbdev.export import notebook2script\n",
    "notebook2script()"
   ]
  },
  {
   "cell_type": "code",
   "execution_count": null,
   "metadata": {},
   "outputs": [],
   "source": [
    ""
   ]
  }
 ],
 "metadata": {
  "kernelspec": {
   "display_name": "Python 3",
   "name": "python3"
  }
 },
 "nbformat": 4,
 "nbformat_minor": 0
}
