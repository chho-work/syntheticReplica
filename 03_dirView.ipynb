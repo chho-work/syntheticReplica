{
 "cells": [
  {
   "cell_type": "code",
   "execution_count": null,
   "metadata": {},
   "outputs": [],
   "source": [
    "%nbdev_hide\n",
    "# IN_COLAB = 'google.colab' in str(get_ipython())\n",
    "# if IN_COLAB:\n",
    "#   !pip install git+https://github.com/pete88b/nbdev_colab_helper.git\n",
    "#   from nbdev_colab_helper.core import *\n",
    "#   project_name = 'syntheticReplica'\n",
    "#   init_notebook(project_name)"
   ]
  },
  {
   "cell_type": "code",
   "execution_count": null,
   "metadata": {},
   "outputs": [
    {
     "name": "stdout",
     "output_type": "stream",
     "text": [
      "The autoreload extension is already loaded. To reload it, use:\n",
      "  %reload_ext autoreload\n",
      "Cells will be exported to syntheticReplica.dirView,\n",
      "unless a different module is specified after an export flag: `%nbdev_export special.module`\n"
     ]
    }
   ],
   "source": [
    "%nbdev_hide\n",
    "%load_ext autoreload\n",
    "%autoreload 2\n",
    "from nbdev import *\n",
    "%nbdev_default_export dirView\n",
    "\n",
    "from nbdev.showdoc import *\n",
    "from fastcore.nb_imports import *"
   ]
  },
  {
   "cell_type": "code",
   "execution_count": null,
   "metadata": {},
   "outputs": [
    {
     "name": "stdout",
     "output_type": "stream",
     "text": [
      "00_core.ipynb\t\t      assets\t       MANIFEST.in\n",
      "01_utils.ipynb\t\t      CONTRIBUTING.md  README.md\n",
      "02_display.ipynb\t      docs\t       settings.ini\n",
      "03_dirView.ipynb\t      images\t       setup.py\n",
      "04_generate_coordinate.ipynb  index.ipynb      syntheticReplica\n",
      "05_imageTools.ipynb\t      LICENSE\n",
      "06_toolsCOCO.ipynb\t      Makefile\n"
     ]
    }
   ],
   "source": [
    "%nbdev_hide\n",
    "!ls"
   ]
  },
  {
   "cell_type": "code",
   "execution_count": null,
   "metadata": {},
   "outputs": [],
   "source": [
    "%nbdev_export_and_show\n",
    "from pathlib import Path\n",
    "import random\n",
    "import shutil"
   ]
  },
  {
   "cell_type": "markdown",
   "metadata": {},
   "source": [
    "# Directory Tools\n",
    "\n",
    "> Basic utilities to work with directory. "
   ]
  },
  {
   "cell_type": "code",
   "execution_count": null,
   "metadata": {},
   "outputs": [],
   "source": [
    "%nbdev_export\n",
    "# Make dir, parents=True, exist_ok=True\n",
    "def mkDir(base_path:Path, dir_list:list):\n",
    "    path_names = []\n",
    "    for name in dir_list:\n",
    "        name = (base_path).joinpath(name)\n",
    "        name.mkdir(parents=True, exist_ok=True)\n",
    "        path_names.append(name)\n"
   ]
  },
  {
   "cell_type": "markdown",
   "metadata": {},
   "source": [
    "#### mkDir\n",
    "> Create new directory"
   ]
  },
  {
   "cell_type": "code",
   "execution_count": null,
   "metadata": {},
   "outputs": [],
   "source": [
    "%nbdev_export\n",
    "# Display additional message\n",
    "def additionalMssg(count:int)->None:\n",
    "    if count == 0:\n",
    "        print(\"All images are ready to display, please proceed!\")\n",
    "    elif count > 0:\n",
    "        print(f'Not a JPG or PNG files: {count}')\n",
    "\n"
   ]
  },
  {
   "cell_type": "code",
   "execution_count": null,
   "metadata": {},
   "outputs": [],
   "source": [
    "%nbdev_export\n",
    "# Count total quantity of files \n",
    "def fileCount(path_dir:Path)->int:\n",
    "    dir_size = len(list(path_dir.iterdir()))\n",
    "    print(f'Total number of items found: {dir_size}')\n",
    "    return dir_size\n",
    "\n"
   ]
  },
  {
   "cell_type": "code",
   "execution_count": null,
   "metadata": {},
   "outputs": [
    {
     "data": {
      "text/markdown": "<h4 id=\"fileCount\" class=\"doc_header\"><code>fileCount</code><a href=\"__main__.py#L3\" class=\"source_link\" style=\"float:right\">[source]</a></h4>\n\n> <code>fileCount</code>(**`path_dir`**:`Path`)\n\n",
      "text/plain": [
       "<IPython.core.display.Markdown object>"
      ]
     },
     "metadata": {
      "tags": []
     },
     "output_type": "display_data"
    }
   ],
   "source": [
    "show_doc(fileCount)"
   ]
  },
  {
   "cell_type": "code",
   "execution_count": null,
   "metadata": {},
   "outputs": [],
   "source": [
    "%nbdev_export\n",
    "# List path to subdirs or paths to files of a dir \n",
    "def listFile(path_dir:Path) -> list:\n",
    "    return sorted(list(path_dir.iterdir()))\n",
    "\n"
   ]
  },
  {
   "cell_type": "code",
   "execution_count": null,
   "metadata": {},
   "outputs": [],
   "source": [
    "%nbdev_export\n",
    "# Enumerate list of file names and paths\n",
    "def itemize(path_dir:Path) -> list:\n",
    "    return [i for i in enumerate(listFile(path_dir))]\n",
    "\n"
   ]
  },
  {
   "cell_type": "markdown",
   "metadata": {},
   "source": [
    "# Remove File\n",
    "\n",
    "* rmFile(id:list, path_dir:Path) -> None_:<br> \n",
    ">_Purpose_: function to remove a single file(i.e .txt, .py, etc)."
   ]
  },
  {
   "cell_type": "code",
   "execution_count": null,
   "metadata": {},
   "outputs": [],
   "source": [
    "%nbdev_export\n",
    "# Remove file with name and extension\n",
    "def rmFile(id:list, path_dir:Path) -> None:\n",
    "    itemize(path_dir)\n",
    "    # Remove paths corresponding to id in the list.\n",
    "    list(map(lambda x: (itemize(path_dir)[x][1]).unlink(), id))\n",
    "\n"
   ]
  },
  {
   "cell_type": "markdown",
   "metadata": {},
   "source": [
    "# Remove File w/ Specific Extension\n",
    "\n",
    "* rmFileExt(path_dir:Path, extension:str )  -> None_\":<br> \n",
    ">_Purpose_: function to remove any files with a specific extension(i.e. \".txt\")."
   ]
  },
  {
   "cell_type": "code",
   "execution_count": null,
   "metadata": {},
   "outputs": [],
   "source": [
    "%nbdev_export\n",
    "# Remove all files with specific extension in a directory\n",
    "def rmFileExt(path_dir:Path, extension:str) -> None:\n",
    "    enum = itemize(path_dir)\n",
    "    for i in range(len(enum)):\n",
    "        _, path = enum[i]\n",
    "        if path.is_file() and path.suffix == extension:\n",
    "            path.unlink()\n",
    "            print(f'\"{path}\"\" removed!')\n",
    "    \n",
    "    print(f'All \"{extension}\" removed!')\n",
    "\n",
    "\n"
   ]
  },
  {
   "cell_type": "markdown",
   "metadata": {},
   "source": [
    "# Remove Directory \n",
    "* rmDir(path_dir:Path, dir:str) -> None_:<br> \n",
    ">_Purpose_: use this function to remove unwanted directory such as Colab autosave generated folder, \".ipynb_checkpoint\".<br>"
   ]
  },
  {
   "cell_type": "code",
   "execution_count": null,
   "metadata": {},
   "outputs": [],
   "source": [
    "%nbdev_export \n",
    "\n",
    "# Remove directory\n",
    "def rmDir(path_dir:Path, dir:str) -> None:\n",
    "    dir_list = listFile(path_dir)\n",
    "    folder = path_dir.joinpath(dir)\n",
    "    if folder in dir_list:\n",
    "        shutil.rmtree(folder)\n",
    "        print(f'\"{folder}\"\" removed' )\n",
    "          \n",
    "\n"
   ]
  },
  {
   "cell_type": "markdown",
   "metadata": {},
   "source": [
    "# Display Directory Information\n",
    "* showDirInf(path_dir:Path, suffix_list:list) -> None_:<br>\n",
    ">_Purpose_: list files of a directory given the path.         \n",
    ">In the \"_suffix_list:list_\" parameter, list the different types of image extensions that you want to display.  For example: ['.jpg', '.jpeg', '.png'].  If the code detects other formats, it will notify with a message.  By default, it includes \"jpg\" and \"png\".<br>"
   ]
  },
  {
   "cell_type": "code",
   "execution_count": null,
   "metadata": {},
   "outputs": [],
   "source": [
    "%nbdev_export\n",
    "# Display image file information     \n",
    "def showDirInf(path_dir:Path, suffix_list:list = ['.jpg', '.jpeg', '.png']) -> None:\n",
    "      \n",
    "    count = 0\n",
    "    enum = itemize(path_dir)\n",
    "    for i in range(len(enum)):\n",
    "        id, path = enum[i]\n",
    "        if path.suffix not in suffix_list:\n",
    "            print(f'{id}: Not a JPG or PNG, please remove before proceeding -> {path.name}')\n",
    "            count += 1\n",
    "        else:\n",
    "            print(f'{id}: {path.name}')\n",
    "\n",
    "    print(f'\\nPath to files: \"{path.parents[0]}\"')  \n",
    "    fileCount(path_dir)\n",
    "    additionalMssg(count)"
   ]
  },
  {
   "cell_type": "markdown",
   "metadata": {},
   "source": [
    "Show file paths, names, types and indicate wheather to remove.<br> \n",
    "\n",
    "Args:  \n",
    "* path_dir     : path to image directory<br>\n",
    "* suffix_list  : list of acceptable image suffixes or extensions(remove if not listed) \n",
    "\n",
    "Return:\n",
    "* None"
   ]
  },
  {
   "cell_type": "code",
   "execution_count": null,
   "metadata": {},
   "outputs": [
    {
     "name": "stdout",
     "output_type": "stream",
     "text": [
      "Converted 00_core.ipynb.\n",
      "Converted 01_utils.ipynb.\n",
      "Converted 02_display.ipynb.\n",
      "Converted 03_dirView.ipynb.\n",
      "Converted 04_generate_coordinate.ipynb.\n",
      "Converted 05_imageTools.ipynb.\n",
      "Converted 06_toolsCOCO.ipynb.\n",
      "Converted index.ipynb.\n"
     ]
    }
   ],
   "source": [
    "%nbdev_hide\n",
    "# Convert to module\n",
    "from nbdev.export import notebook2script\n",
    "notebook2script()"
   ]
  },
  {
   "cell_type": "code",
   "execution_count": null,
   "metadata": {},
   "outputs": [
    {
     "data": {
      "text/html": [
       ""
      ],
      "text/plain": [
       "<IPython.core.display.HTML object>"
      ]
     },
     "metadata": {
      "tags": []
     },
     "output_type": "display_data"
    },
    {
     "name": "stdout",
     "output_type": "stream",
     "text": [
      "converting: /content/drive/My Drive/Colab Notebooks/github/syntheticReplica/03_dirView.ipynb\n",
      "Warning: Some of your Notebooks use the same title (['Title', 'Title', 'Title', 'Directory Tools', 'Title', 'Title', 'Title']).\n",
      "converting /content/drive/My Drive/Colab Notebooks/github/syntheticReplica/index.ipynb to README.md\n"
     ]
    }
   ],
   "source": [
    "%nbdev_hide\n",
    "from nbdev.cli import nbdev_build_docs\n",
    "nbdev_build_docs()"
   ]
  },
  {
   "cell_type": "code",
   "execution_count": null,
   "metadata": {},
   "outputs": [],
   "source": [
    ""
   ]
  }
 ],
 "metadata": {
  "kernelspec": {
   "display_name": "Python 3",
   "name": "python3"
  }
 },
 "nbformat": 4,
 "nbformat_minor": 0
}
