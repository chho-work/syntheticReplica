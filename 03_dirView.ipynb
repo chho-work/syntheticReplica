{
 "cells": [
  {
   "cell_type": "code",
   "execution_count": null,
   "metadata": {},
   "outputs": [],
   "source": [
    "%nbdev_hide\n",
    "# IN_COLAB = 'google.colab' in str(get_ipython())\n",
    "# if IN_COLAB:\n",
    "#   !pip install git+https://github.com/pete88b/nbdev_colab_helper.git\n",
    "#   from nbdev_colab_helper.core import *\n",
    "#   project_name = 'syntheticReplica'\n",
    "#   init_notebook(project_name)"
   ]
  },
  {
   "cell_type": "code",
   "execution_count": null,
   "metadata": {},
   "outputs": [
    {
     "name": "stdout",
     "output_type": "stream",
     "text": [
      "The autoreload extension is already loaded. To reload it, use:\n",
      "  %reload_ext autoreload\n",
      "Cells will be exported to syntheticReplica.dirView,\n",
      "unless a different module is specified after an export flag: `%nbdev_export special.module`\n"
     ]
    }
   ],
   "source": [
    "%nbdev_hide\n",
    "%load_ext autoreload\n",
    "%autoreload 2\n",
    "from nbdev import *\n",
    "%nbdev_default_export dirView\n",
    "\n",
    "from nbdev.showdoc import *\n",
    "from fastcore.nb_imports import *"
   ]
  },
  {
   "cell_type": "code",
   "execution_count": null,
   "metadata": {},
   "outputs": [],
   "source": [
    "%nbdev_export\n",
    "from pathlib import Path\n",
    "import random\n",
    "import shutil"
   ]
  },
  {
   "cell_type": "markdown",
   "metadata": {},
   "source": [
    "# Directory Tools\n",
    "\n",
    "> Basic utilities to work with directory. "
   ]
  },
  {
   "cell_type": "markdown",
   "metadata": {},
   "source": [
    "### Create Directory\n",
    "Create several directories with different names.<br>\n",
    "\n",
    "Args:  \n",
    "* base_path    : path to base directory\n",
    "* dir_list     : list of directory names to be created \n",
    "\n",
    "Return:\n",
    "* None"
   ]
  },
  {
   "cell_type": "code",
   "execution_count": null,
   "metadata": {},
   "outputs": [],
   "source": [
    "%nbdev_export\n",
    "# Make dir, parents=True, exist_ok=True\n",
    "def mkDir(base_path:Path, dir_list:list) -> None:\n",
    "    path_names = []\n",
    "    for name in dir_list:\n",
    "        name = (base_path).joinpath(name)\n",
    "        name.mkdir(parents=True, exist_ok=True)\n",
    "        path_names.append(name)\n"
   ]
  },
  {
   "cell_type": "code",
   "execution_count": null,
   "metadata": {},
   "outputs": [],
   "source": [
    "%nbdev_export_internal\n",
    "# Display additional message\n",
    "def additionalMssg(count:int) -> None:\n",
    "    if count == 0:\n",
    "        print(\"All images are ready to display, please proceed!\")\n",
    "    elif count > 0:\n",
    "        print(f'Not a JPG or PNG files: {count}')"
   ]
  },
  {
   "cell_type": "markdown",
   "metadata": {},
   "source": [
    "### File Count\n",
    "Count number of files within a directory.<br>\n",
    "\n",
    "Args:  \n",
    "* path_dir     : path to directory \n",
    "\n",
    "Return:\n",
    "* int"
   ]
  },
  {
   "cell_type": "code",
   "execution_count": null,
   "metadata": {},
   "outputs": [],
   "source": [
    "%nbdev_export\n",
    "# Count total quantity of files \n",
    "def fileCount(path_dir:Path) -> int:\n",
    "    dir_size = len(list(path_dir.iterdir()))\n",
    "    print(f'Total number of items found: {dir_size}')\n",
    "    return dir_size"
   ]
  },
  {
   "cell_type": "code",
   "execution_count": null,
   "metadata": {},
   "outputs": [],
   "source": [
    "%nbdev_export_internal\n",
    "# List path to subdirs or paths to files of a dir \n",
    "def listFile(path_dir:Path) -> list:\n",
    "    return sorted(list(path_dir.iterdir()))"
   ]
  },
  {
   "cell_type": "code",
   "execution_count": null,
   "metadata": {},
   "outputs": [],
   "source": [
    "%nbdev_export_internal\n",
    "# Enumerate list of file names and paths\n",
    "def itemize(path_dir:Path) -> list:\n",
    "    return [i for i in enumerate(listFile(path_dir))]"
   ]
  },
  {
   "cell_type": "markdown",
   "metadata": {},
   "source": [
    "### Remove File\n",
    "\n",
    "Remove single file, example: \".txt\", \".py\", etc).<br>\n",
    "\n",
    "Args:  \n",
    "* id           : file number from showDirInf() output \n",
    "* path_dir     : path to directory \n",
    "\n",
    "Return:\n",
    "* None"
   ]
  },
  {
   "cell_type": "code",
   "execution_count": null,
   "metadata": {},
   "outputs": [],
   "source": [
    "%nbdev_export\n",
    "# Remove file with name and extension\n",
    "def rmFile(id:list, path_dir:Path) -> None:\n",
    "    itemize(path_dir)\n",
    "    # Remove paths corresponding to id in the list.\n",
    "    list(map(lambda x: (itemize(path_dir)[x][1]).unlink(), id))"
   ]
  },
  {
   "cell_type": "markdown",
   "metadata": {},
   "source": [
    "### Remove File w/ Specific Extension\n",
    "\n",
    "Remove any files with a specific extension, for example: \".txt\".<br>\n",
    "\n",
    "Args:  \n",
    "* path_dir     : path to directory\n",
    "* extension    : extension type \n",
    "\n",
    "Return:\n",
    "* None"
   ]
  },
  {
   "cell_type": "code",
   "execution_count": null,
   "metadata": {},
   "outputs": [],
   "source": [
    "%nbdev_export\n",
    "# Remove all files with a specific extension in a directory\n",
    "def rmFileExt(path_dir:Path, extension:str) -> None:\n",
    "    enum = itemize(path_dir)\n",
    "    for i in range(len(enum)):\n",
    "        _, path = enum[i]\n",
    "        if path.is_file() and path.suffix == extension:\n",
    "            path.unlink()\n",
    "            print(f'\"{path}\"\" removed!')\n",
    "    \n",
    "    print(f'All \"{extension}\" removed!')"
   ]
  },
  {
   "cell_type": "markdown",
   "metadata": {},
   "source": [
    "### Remove Directory\n",
    "Remove unwanted directory or subdirectory, for example: Colab autosave generated folder, \".ipynb_checkpoint\".<br> \n",
    "\n",
    "Args:  \n",
    "* path_dir     : path to directory\n",
    "* dir          : directory name \n",
    "\n",
    "Return:\n",
    "* None"
   ]
  },
  {
   "cell_type": "code",
   "execution_count": null,
   "metadata": {},
   "outputs": [],
   "source": [
    "%nbdev_export \n",
    "\n",
    "# Remove directory or subdirectory\n",
    "def rmDir(path_dir:Path, dir:str) -> None:\n",
    "    dir_list = listFile(path_dir)\n",
    "    folder = path_dir.joinpath(dir)\n",
    "    if folder in dir_list:\n",
    "        shutil.rmtree(folder)\n",
    "        print(f'\"{folder}\"\" removed' )"
   ]
  },
  {
   "cell_type": "markdown",
   "metadata": {},
   "source": [
    "#### Show Directory Information\n",
    "Show file paths, names, types and indicate wheather to remove.<br> \n",
    "\n",
    "Args:  \n",
    "* path_dir     : path to image directory<br>\n",
    "* suffix_list  : list of acceptable image suffixes or extensions(remove if not listed) \n",
    "\n",
    "Return:\n",
    "* None"
   ]
  },
  {
   "cell_type": "code",
   "execution_count": null,
   "metadata": {},
   "outputs": [],
   "source": [
    "%nbdev_export\n",
    "# Display image file information within a directory     \n",
    "def showDirInf(path_dir:Path, suffix_list:list = ['.jpg', '.jpeg', '.png']) -> None:   \n",
    "    count = 0\n",
    "    enum = itemize(path_dir)\n",
    "    for i in range(len(enum)):\n",
    "        id, path = enum[i]\n",
    "        if path.suffix not in suffix_list:\n",
    "            print(f'{id}: Not a JPG or PNG, please remove before proceeding -> {path.name}')\n",
    "            count += 1\n",
    "        else:\n",
    "            print(f'{id}: {path.name}')\n",
    "\n",
    "    print(f'\\nPath to files: \"{path.parents[0]}\"')  \n",
    "    fileCount(path_dir)\n",
    "    additionalMssg(count)"
   ]
  }
 ],
 "metadata": {
  "kernelspec": {
   "display_name": "Python 3",
   "name": "python3"
  }
 },
 "nbformat": 4,
 "nbformat_minor": 0
}
