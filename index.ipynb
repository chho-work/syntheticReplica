{
 "cells": [
  {
   "cell_type": "code",
   "execution_count": null,
   "metadata": {},
   "outputs": [],
   "source": [
    "%nbdev_hide\n",
    "# IN_COLAB = 'google.colab' in str(get_ipython())\n",
    "# if IN_COLAB:\n",
    "#   !pip install git+https://github.com/pete88b/nbdev_colab_helper.git\n",
    "#   from nbdev_colab_helper.core import *\n",
    "#   project_name = 'syntheticReplica'\n",
    "#   init_notebook(project_name)"
   ]
  },
  {
   "cell_type": "code",
   "execution_count": null,
   "metadata": {},
   "outputs": [],
   "source": [
    "%nbdev_hide\n",
    "from syntheticReplica.core import *"
   ]
  },
  {
   "cell_type": "markdown",
   "metadata": {},
   "source": [
    "# Antibiogram Composite Images  \n",
    "> Overview\n"
   ]
  },
  {
   "cell_type": "markdown",
   "metadata": {},
   "source": [
    "A project with a start up in the micro-biology industry led me to write\n",
    "some simple form of tooling to automate the production of composite images.  Image compositing is often used to combine related visual elements such as form, shape, color, pattern, or texture, from different sources of images into a single image.  In its elementary form, composite image is the result of blending two images, one on top of the other.<br>\n",
    "\n",
    "The one on the top is called foreground and the bottom one, the background.  Foreground image is smaller in sizes.  It can also be described as active, when compared to background.  The same foreground image can be used many times and allocated in different spots of the background image during production of composite images.  Background image, on the other hand, is static.  Similar to foreground, the same background image can be used many times during production of composite images, but it rarely needs adjustment.<br>  "
   ]
  },
  {
   "cell_type": "markdown",
   "metadata": {},
   "source": [
    "### Real vs Composite Images\n",
    "> Sample of composite images of antibiograms."
   ]
  },
  {
   "cell_type": "code",
   "execution_count": null,
   "metadata": {},
   "outputs": [
    {
     "data": {
      "text/html": [
       "<img src=\"https://github.com/chho-work/syntheticReplica/blob/main/assets/real_composite.jpg?raw=True\"/>"
      ],
      "text/plain": [
       "<IPython.core.display.Image object>"
      ]
     },
     "execution_count": null,
     "metadata": {
      "tags": []
     },
     "output_type": "execute_result"
    }
   ],
   "source": [
    "%nbdev_hide_input\n",
    "from IPython.display import Image \n",
    "Image(url=\"https://github.com/chho-work/syntheticReplica/blob/main/assets/real_composite.jpg?raw=True\")"
   ]
  },
  {
   "cell_type": "markdown",
   "metadata": {},
   "source": [
    "### Issues When Building Synthetic Images\n",
    "> Two problems may occur"
   ]
  },
  {
   "cell_type": "code",
   "execution_count": null,
   "metadata": {},
   "outputs": [
    {
     "data": {
      "text/html": [
       "<img src=\"https://github.com/chho-work/syntheticReplica/blob/main/assets/composite_image_explain.jpg?raw=True\"/>"
      ],
      "text/plain": [
       "<IPython.core.display.Image object>"
      ]
     },
     "execution_count": null,
     "metadata": {
      "tags": []
     },
     "output_type": "execute_result"
    }
   ],
   "source": [
    "%nbdev_hide_input\n",
    "Image(url=\"https://github.com/chho-work/syntheticReplica/blob/main/assets/composite_image_explain.jpg?raw=True\")"
   ]
  },
  {
   "cell_type": "markdown",
   "metadata": {},
   "source": [
    "### Positioning Foreground Images\n",
    "> Figure 2 problem can be solved using positioning"
   ]
  },
  {
   "cell_type": "code",
   "execution_count": null,
   "metadata": {},
   "outputs": [
    {
     "data": {
      "text/html": [
       "<img src=\"https://github.com/chho-work/syntheticReplica/blob/main/assets/positioning.jpg?raw=True\"/>"
      ],
      "text/plain": [
       "<IPython.core.display.Image object>"
      ]
     },
     "execution_count": null,
     "metadata": {
      "tags": []
     },
     "output_type": "execute_result"
    }
   ],
   "source": [
    "%nbdev_hide_input\n",
    "Image(url=\"https://github.com/chho-work/syntheticReplica/blob/main/assets/positioning.jpg?raw=True\")"
   ]
  },
  {
   "cell_type": "code",
   "execution_count": null,
   "metadata": {},
   "outputs": [
    {
     "name": "stdout",
     "output_type": "stream",
     "text": [
      "No notebooks were modified\n",
      "converting /content/drive/My Drive/Colab Notebooks/github/syntheticReplica/index.ipynb to README.md\n"
     ]
    }
   ],
   "source": [
    "%nbdev_hide\n",
    "from nbdev.cli import nbdev_build_docs\n",
    "nbdev_build_docs(\"/content/drive/MyDrive/Colab\\ Notebooks/github/syntheticReplica/index.ipynb\")"
   ]
  },
  {
   "cell_type": "code",
   "execution_count": null,
   "metadata": {},
   "outputs": [],
   "source": [
    ""
   ]
  }
 ],
 "metadata": {
  "kernelspec": {
   "display_name": "Python 3",
   "language": "python",
   "name": "python3"
  }
 },
 "nbformat": 4,
 "nbformat_minor": 0
}
