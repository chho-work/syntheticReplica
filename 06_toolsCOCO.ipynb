{
 "cells": [
  {
   "cell_type": "code",
   "execution_count": null,
   "metadata": {},
   "outputs": [
    {
     "name": "stdout",
     "output_type": "stream",
     "text": [
      "Cells will be exported to syntheticReplica.toolsCOCO,\n",
      "unless a different module is specified after an export flag: `%nbdev_export special.module`\n"
     ]
    }
   ],
   "source": [
    "%nbdev_hide\n",
    "from nbdev import *\n",
    "%nbdev_default_export toolsCOCO"
   ]
  },
  {
   "cell_type": "code",
   "execution_count": null,
   "metadata": {},
   "outputs": [],
   "source": [
    "%nbdev_hide\n",
    "# IN_COLAB = 'google.colab' in str(get_ipython())\n",
    "# if IN_COLAB:\n",
    "#   !pip install git+https://github.com/pete88b/nbdev_colab_helper.git\n",
    "#   from nbdev_colab_helper.core import *\n",
    "#   project_name = 'syntheticReplica'\n",
    "#   init_notebook(project_name)"
   ]
  },
  {
   "cell_type": "code",
   "execution_count": null,
   "metadata": {},
   "outputs": [
    {
     "name": "stdout",
     "output_type": "stream",
     "text": [
      "00_core.ipynb\t\t      assets\t       MANIFEST.in\n",
      "01_utils.ipynb\t\t      CONTRIBUTING.md  README.md\n",
      "02_display.ipynb\t      docs\t       settings.ini\n",
      "03_dirView.ipynb\t      images\t       setup.py\n",
      "04_generate_coordinate.ipynb  index.ipynb      syntheticReplica\n",
      "05_imageTools.ipynb\t      LICENSE\n",
      "06_toolsCOCO.ipynb\t      Makefile\n"
     ]
    }
   ],
   "source": [
    "!ls"
   ]
  },
  {
   "cell_type": "code",
   "execution_count": null,
   "metadata": {},
   "outputs": [],
   "source": [
    "%nbdev_export\n",
    "from PIL import Image\n",
    "from syntheticReplica.display import *\n",
    "from pathlib import Path\n",
    "\n",
    "\"\"\"\n",
    "To create a minimum COCO format datasets, we need to provide data of:\n",
    "1) image: file name, id, height, width\n",
    "2) category: supercategory, id, name\n",
    "3) annotation: segmentation points, iscrowd, area, image_id, bbox, category_id, id\n",
    "\n",
    "Note: \n",
    "\"iscrowd\": 0 if your segmentation based on polygon (object instance)\n",
    "\"iscrowd\": 1 if your segmentation based uncompressed RLE (crowd)\n",
    "Reference: https://github.com/cocodataset/cocoapi/issues/135\n",
    "\"\"\"\n",
    "\n",
    "# Convert annotations data(in different datatypes) to dictionary\n",
    "# Ordered keys\n",
    "def addAnnotDict(segmentation:list,\n",
    "                       iscrowd:int, \n",
    "                       area:float, \n",
    "                       image_id:int, \n",
    "                       bbox:list, \n",
    "                       category_id:int, \n",
    "                       id:int) -> dict:\n",
    "    \n",
    "    return {\"annotations\": [{\"segmentation\": segmentation, \n",
    "                             \"iscrowd\": iscrowd, \n",
    "                             \"area\": area, \n",
    "                             \"image_id\":image_id, \n",
    "                             \"bbox\": bbox, \n",
    "                             \"category_id\": category_id, \n",
    "                             \"id\": id}]}\n",
    "\n",
    "# Convert image meta-data to dictionary\n",
    "def addImagesDict(path_dir:Path, # path to image folder \n",
    "                  fileName:str,  # image file name\n",
    "                  image_id:int) -> dict:\n",
    "            img_path = Path(path_dir).joinpath(fileName)\n",
    "            image = imageSize(img_path)\n",
    "            width, height = image[0], image[1]\n",
    "            \n",
    "            return {\"images\": [{\"file_name\": fileName, \n",
    "                                \"id\": image_id, \n",
    "                                \"height\": height, \n",
    "                                \"width\": width}]}\n",
    "# Covert category data to  dictionary\n",
    "def addCatDict(supercategory:str, \n",
    "               category_id:int, \n",
    "               category_name:str) -> dict:\n",
    "    return {\"categories\": [{\"supercategory\": supercategory, \n",
    "                            \"id\": category_id, \n",
    "                            \"name\": category_name}]}\n"
   ]
  },
  {
   "cell_type": "code",
   "execution_count": null,
   "metadata": {},
   "outputs": [
    {
     "name": "stdout",
     "output_type": "stream",
     "text": [
      "/content/drive/My Drive/Colab Notebooks/github/syntheticReplica/syntheticReplica\n",
      "core.py     display.py\t\t    imageTools.py  _nbdev.py\tutils.py\n",
      "dirView.py  generate_coordinate.py  __init__.py    __pycache__\n"
     ]
    }
   ],
   "source": [
    "%cd syntheticReplica/\n",
    "!ls"
   ]
  },
  {
   "cell_type": "code",
   "execution_count": null,
   "metadata": {},
   "outputs": [
    {
     "name": "stdout",
     "output_type": "stream",
     "text": [
      "Converted 00_core.ipynb.\n",
      "Converted 01_utils.ipynb.\n",
      "Converted 02_display.ipynb.\n",
      "Converted 03_dirView.ipynb.\n",
      "Converted 04_generate_coordinate.ipynb.\n",
      "Converted 05_imageTools.ipynb.\n",
      "Converted 06_toolsCOCO.ipynb.\n",
      "Converted index.ipynb.\n"
     ]
    }
   ],
   "source": [
    "from nbdev.export import notebook2script\n",
    "notebook2script()"
   ]
  },
  {
   "cell_type": "code",
   "execution_count": null,
   "metadata": {},
   "outputs": [],
   "source": [
    ""
   ]
  }
 ],
 "metadata": {
  "kernelspec": {
   "display_name": "Python 3",
   "name": "python3"
  }
 },
 "nbformat": 4,
 "nbformat_minor": 0
}
