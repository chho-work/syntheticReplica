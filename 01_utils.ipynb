{
 "cells": [
  {
   "cell_type": "code",
   "execution_count": null,
   "metadata": {},
   "outputs": [
    {
     "name": "stdout",
     "output_type": "stream",
     "text": [
      "Cells will be exported to syntheticReplica.utils,\n",
      "unless a different module is specified after an export flag: `%nbdev_export special.module`\n"
     ]
    }
   ],
   "source": [
    "%nbdev_hide\n",
    "from nbdev import *\n",
    "%nbdev_default_export utils"
   ]
  },
  {
   "cell_type": "code",
   "execution_count": null,
   "metadata": {},
   "outputs": [],
   "source": [
    "%nbdev_hide\n",
    "# IN_COLAB = 'google.colab' in str(get_ipython())\n",
    "# if IN_COLAB:\n",
    "#   !pip install git+https://github.com/pete88b/nbdev_colab_helper.git\n",
    "#   from nbdev_colab_helper.core import *\n",
    "#   project_name = 'syntheticReplica'\n",
    "#   init_notebook(project_name)"
   ]
  },
  {
   "cell_type": "code",
   "execution_count": null,
   "metadata": {},
   "outputs": [],
   "source": [
    "%nbdev_export\n",
    "\n",
    "import pandas as pd\n",
    "from PIL import Image\n",
    "\n",
    "class UtilsBuildLinearCoord:\n",
    "    # Plot horizontal(X-Axis) or vertical(Y-Axis) lines for a specific range of coordinates. \n",
    "    # Todo: add more axis(as option) \n",
    "    @staticmethod\n",
    "    def buildAnnotPoint(init_pto:list, expand_x:int, expand_y:int) -> int:\n",
    "        x_pto = [init_pto[0] + expand_x, init_pto[1]]\n",
    "        y_pto = [init_pto[0], init_pto[1] + expand_y]\n",
    "        return x_pto, y_pto\n",
    "\n",
    "    @staticmethod\n",
    "    def convertMatplot(init_pto:list, x_pto, y_pto):\n",
    "        for i1, i2, i3 in zip(init_pto, x_pto, y_pto):\n",
    "            yield [i1, i2]\n",
    "            yield [i1, i3]\n",
    "\n",
    "    @staticmethod\n",
    "    def storeXY(generate) -> list:\n",
    "        store = []\n",
    "        while True:\n",
    "            try:\n",
    "                # Get next value from Generator object\n",
    "                num = next(generate)\n",
    "                store.append(num)\n",
    "            except StopIteration:\n",
    "                break\n",
    "        return store\n",
    "\n",
    "    # Convert column to list\n",
    "    @staticmethod\n",
    "    def col2List(path_csv:str) -> list:\n",
    "        df_col2List = pd.read_csv(path_csv, index_col=0)\n",
    "        col_init_pto = df_col2List.reset_index()[['init_pto_x', 'init_pto_y']].values.tolist()\n",
    "        col_expand_x = df_col2List['expand_x'].tolist()\n",
    "        col_expand_y = df_col2List['expand_y'].tolist()\n",
    "        return col_init_pto, col_expand_x, col_expand_y\n",
    "\n",
    "    @staticmethod\n",
    "    def openImg(path_image:str):\n",
    "        return Image.open(path_image)"
   ]
  },
  {
   "cell_type": "code",
   "execution_count": null,
   "metadata": {},
   "outputs": [
    {
     "name": "stdout",
     "output_type": "stream",
     "text": [
      "Converted 00_core.ipynb.\n",
      "Converted 01_utils.ipynb.\n",
      "Converted 02_display.ipynb.\n",
      "Converted 03_dirView.ipynb.\n",
      "Converted index.ipynb.\n"
     ]
    }
   ],
   "source": [
    "%nbdev_hide\n",
    "from nbdev.export import notebook2script\n",
    "notebook2script(\"01_utils.ipynb\")"
   ]
  },
  {
   "cell_type": "code",
   "execution_count": null,
   "metadata": {},
   "outputs": [],
   "source": [
    ""
   ]
  }
 ],
 "metadata": {
  "kernelspec": {
   "display_name": "Python 3",
   "name": "python3"
  }
 },
 "nbformat": 4,
 "nbformat_minor": 0
}
